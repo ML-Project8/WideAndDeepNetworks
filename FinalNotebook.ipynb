{
 "cells": [
  {
   "cell_type": "markdown",
   "metadata": {},
   "source": [
    "# Lab Assignment Six: Wide and Deep Networks\n",
    "\n"
   ]
  },
  {
   "cell_type": "markdown",
   "metadata": {},
   "source": [
    "__*Austin Chen, Luke Hansen, Oscar Vallner*__"
   ]
  },
  {
   "cell_type": "markdown",
   "metadata": {},
   "source": [
    "## 1. Preparation and Overview\n"
   ]
  },
  {
   "cell_type": "markdown",
   "metadata": {},
   "source": [
    "### 1.1 Business Understanding"
   ]
  },
  {
   "cell_type": "markdown",
   "metadata": {
    "collapsed": true
   },
   "source": [
    "For the 6th Lab Assignment, we will be using the \"Diabetes 130-US hospitals of years 1999-2008\" dataset, downloaded from the UCI Machine Learning Repository. This dataset has been prepared for usage in analyzing medical factors related to hospital readmission for patients with diabetes. The dataset represents ten years worth of clinical care data from 130 hospitals in the United States, as well as integrated delivery networks. In order for an entry to qualify for the dataset, it must satisfy the following requirements:\n",
    "\n",
    "1. It must be a hospital admission\n",
    "2. The admission must be diabetic related\n",
    "3. The length of the stay must be more than 1 day but less than 2 weeks.\n",
    "4. Laboratory tests must have been performed on the patient\n",
    "5. Medications must have been administered or prescribed.\n",
    "\n",
    "The dataset's features comprise of a mix of nominal and numeric datatypes. The features span a multitude of patient information categories such as race, gender, age, weight, and time spent in hospital. Some of the more specific features include information such as medications administered (miglitol, metformin, tolazamide, etc) and number of lab procedures. \n",
    "\n",
    "The features and content of this dataset can provide extremely important information for the healthcare industry, for various reasons. First and foremost, a classification model that can accurately predict whether a diabetic inpatient will return to the hospital has several implications in itself. On the medical side, knowing that a patient is at risk for rehospitalization, given a patient's specific attributes, can help doctors and physicians modify their treatment methodology to minimize the chance of rehospitalization. A similar concept applies for the patients themselves; patients who can know they may be at risk for rehospitalization can take extra precautions once they are discharged in an attempt to prevent further emergencies. And finally, if hospital administrators know that a certain number of patients will be readmitted, they could use this information in order to better plan room reservations, medical supply projections, and further logistical planning. Though it is difficult to plan resources for hospitals due to their hectic nature, having the information is still there nonetheless, and provides more options. In any case, the business applications are wide and deep no matter the stakeholder.\n",
    "\n",
    "With the aforementioned data, we plan to construct a classifier that will predict whether or not a patient will be rehospitalized within 30 days after discharge.\n",
    "\n",
    "However, we must highlight an important issue with our classification task. The original dataset creates three distinct class boundaries for hospital readmittance:\n",
    "\n",
    "1. NO: No record of readmission\n",
    "2. &lt;30: If the patient was readmitted in less than 30 days.\n",
    "3. &gt;30: If the patient was readmitted in more than 30 days.\n",
    "\n",
    "For the sake of our business case, we believe it would be far more feasible to narrow the scope to a binary classification. Instead of the three distinct classes seen above, a simplification could prove more pratical and informative:\n",
    "\n",
    "1. NO: No record of readmission\n",
    "2. &lt;30: If the patient was readmitted in less than 30 days.\n",
    "\n",
    "We have decided to eliminate the third type above (>30 days) for a number of reasons. First, it is important to reiterate that one of our primary business cases is to help medical professionals improve their treatment methodologies on diabetic hospital patients. Once a patient has been released for more than 30 days, the more difficult it becomes to blame any rehospitalizations on the aspects of the procedure itself. Pinpointing reasons for rehopsitalization becomes far more nebulous once a significant amount of time has passed since original hospitalization. There could be several extenuating external circumstances that contribute to a rehospitalization of a patient independent of the hospital's treatment. Furthermore, limiting the scope to a binary classification can greatly enhance our ability to choose the most appropriate evaluation method. For an industry as important as healthcare, especially where human life is at risk, we believe that a simpler classification, with better evaluation practices and better performance, is more deployable than a multi-class problem with lower performance. Because the mere concept of emergency hospitalization bears the risk of human mortality, we would want to achieve an accuracy of at least 95+%. **However, as we will discuss later, pure accuracy will not be our primary evaluation metric.**\n",
    "\n",
    "With more time, we can continue to refine our classification model to accomodate more classes. With regards to our specific dataset, we would require consultation with a domain expert in order to evaluate the extenuating circumstances that contribute to rehospitalization past 30 days. \n",
    "\n",
    "---\n",
    "\n",
    "Link to dataset: http://archive.ics.uci.edu/ml/datasets/Diabetes+130-US+hospitals+for+years+1999-2008#\n",
    "\n",
    "---"
   ]
  },
  {
   "cell_type": "markdown",
   "metadata": {
    "collapsed": true
   },
   "source": [
    "### 1.2 Class Variables"
   ]
  },
  {
   "cell_type": "markdown",
   "metadata": {},
   "source": [
    "### Features\n",
    "\n",
    "Here is a full guide to the features found in our dataset. A more comprehensive feature guide can be found here: https://www.hindawi.com/journals/bmri/2014/781670/tab1/\n",
    "\n",
    "<br> </br>\n",
    "\n",
    "| No. Feature     | Feature Name  | Feature Type    | Description     |\n",
    "| :-------------: |:-------------:| :-------------: | :-------------: |\n",
    "| ~~1~~ | ~~encounter_id~~ | ~~Numeric~~ | *Removed from dataset for model* |\n",
    "| ~~2~~ | ~~patient_nbr~~ | ~~Numeric~~ | *Removed from dataset for model* |\n",
    "| 3 | race | Nominal | Race: Caucasian, Asian, Hispanic, etc. | \n",
    "| 4 | gender | Nominal| Gender: male, female, unknown/invalid |\n",
    "| 5 | age | Nominal | Age ranges in 10-year intervals: [0, 10), [10, 20) |\n",
    "| ~~6~~ | ~~weight~~ | ~~Numeric~~ | *Removed from dataset for model* |\n",
    "| 7 | admission_type_id | Nominal | Integer ientifier. Ex. Emergency, elective, etc. |\n",
    "| 8 | discharge_disposition_id | Nominal | Integer identifier. Ex. Discharged to home, expired, etc. |\n",
    "| 9 | admission_source_id | Nominal | Integer identifier |\n",
    "| 10 | time_in_hospital | Numeric | Integer number of days spent in hospital |\n",
    "| ~~11~~ | ~~payer_code~~ | ~~Nominal~~ | *Removed from dataset for model* |\n",
    "| ~~12~~ | ~~medical_specialty~~ | ~~Nominal~~ | *Removed from dataset for model* |\n",
    "| 13 | num_lab_procedures | Numeric | Number of lab tests performed during admission |\n",
    "| 14 | num_procedures | Numeric | Number of other procedures performed during admission |\n",
    "| 15 | num_medications | Numeric | Number of distinct medications administered during encounter |\n",
    "| 16 | num_outpatient | Number | Number of outpatient visits of the patient in the year preceding the encounter |\n",
    "| 17 | number_emergency | Number | Number of emergency visits of the patient in the year preceding the encounter |\n",
    "| 18 | number_inpatient | Number | Number of impatient visits of the patient in the year preceding the encounter |\n",
    "| 19 | diag_1 | Nominal | Primary diagnosis |\n",
    "| 20 | diag_2 | Nominal | Secondary diagnosis |\n",
    "| 21 | diag_3 | Nominal| Any additional secondary diagnosis |\n",
    "| 22 | number_diagnoses | Numeric | Number of diagnoses |\n",
    "| 23 | max_glu_serum | Nominal |  Result for glucose serum test. Represented by a range of values. |\n",
    "| 24 | A1Cresult | Nominal | Result for A1c test. Represented by a arange of values. |\n",
    "| 25-48 | Medications | Nominal | 24 features for different medications |\n",
    "| 49 | change | Nominal | Whether there was a change in diabetic medications. |\n",
    "| 50 | diabetesMed | Nominal | Indicates whether any diabetic medication was prescribed. |\n",
    "| 51 | Readmitted | Nominal | Whether patient was readmitted. \"No\" or \"less than 30 days\". |\n",
    "\n",
    "<br> </br>\n",
    "\n",
    "Though we removed some features such as encounter_id and patient_nbr because they don't contribute any relevant information to our classification dataset, we also decided to remove a few other features that actually have conceptual significance to the dataset. For example, the weight attribute has many potential ties to qualifying overall health. However, 97% of the weight data was missing, and imputing 97% of the data for a category is not possible."
   ]
  },
  {
   "cell_type": "markdown",
   "metadata": {},
   "source": [
    "### 1.3 Data Preparation"
   ]
  },
  {
   "cell_type": "markdown",
   "metadata": {},
   "source": [
    "We begin our data preparation by reading in our dataset."
   ]
  },
  {
   "cell_type": "code",
   "execution_count": 1,
   "metadata": {},
   "outputs": [
    {
     "data": {
      "text/html": [
       "<div>\n",
       "<style>\n",
       "    .dataframe thead tr:only-child th {\n",
       "        text-align: right;\n",
       "    }\n",
       "\n",
       "    .dataframe thead th {\n",
       "        text-align: left;\n",
       "    }\n",
       "\n",
       "    .dataframe tbody tr th {\n",
       "        vertical-align: top;\n",
       "    }\n",
       "</style>\n",
       "<table border=\"1\" class=\"dataframe\">\n",
       "  <thead>\n",
       "    <tr style=\"text-align: right;\">\n",
       "      <th></th>\n",
       "      <th>encounter_id</th>\n",
       "      <th>patient_nbr</th>\n",
       "      <th>race</th>\n",
       "      <th>gender</th>\n",
       "      <th>age</th>\n",
       "      <th>weight</th>\n",
       "      <th>admission_type_id</th>\n",
       "      <th>discharge_disposition_id</th>\n",
       "      <th>admission_source_id</th>\n",
       "      <th>time_in_hospital</th>\n",
       "      <th>...</th>\n",
       "      <th>citoglipton</th>\n",
       "      <th>insulin</th>\n",
       "      <th>glyburide-metformin</th>\n",
       "      <th>glipizide-metformin</th>\n",
       "      <th>glimepiride-pioglitazone</th>\n",
       "      <th>metformin-rosiglitazone</th>\n",
       "      <th>metformin-pioglitazone</th>\n",
       "      <th>change</th>\n",
       "      <th>diabetesMed</th>\n",
       "      <th>readmitted</th>\n",
       "    </tr>\n",
       "  </thead>\n",
       "  <tbody>\n",
       "    <tr>\n",
       "      <th>0</th>\n",
       "      <td>2278392</td>\n",
       "      <td>8222157</td>\n",
       "      <td>Caucasian</td>\n",
       "      <td>Female</td>\n",
       "      <td>[0-10)</td>\n",
       "      <td>?</td>\n",
       "      <td>6</td>\n",
       "      <td>25</td>\n",
       "      <td>1</td>\n",
       "      <td>1</td>\n",
       "      <td>...</td>\n",
       "      <td>No</td>\n",
       "      <td>No</td>\n",
       "      <td>No</td>\n",
       "      <td>No</td>\n",
       "      <td>No</td>\n",
       "      <td>No</td>\n",
       "      <td>No</td>\n",
       "      <td>No</td>\n",
       "      <td>No</td>\n",
       "      <td>NO</td>\n",
       "    </tr>\n",
       "    <tr>\n",
       "      <th>1</th>\n",
       "      <td>149190</td>\n",
       "      <td>55629189</td>\n",
       "      <td>Caucasian</td>\n",
       "      <td>Female</td>\n",
       "      <td>[10-20)</td>\n",
       "      <td>?</td>\n",
       "      <td>1</td>\n",
       "      <td>1</td>\n",
       "      <td>7</td>\n",
       "      <td>3</td>\n",
       "      <td>...</td>\n",
       "      <td>No</td>\n",
       "      <td>Up</td>\n",
       "      <td>No</td>\n",
       "      <td>No</td>\n",
       "      <td>No</td>\n",
       "      <td>No</td>\n",
       "      <td>No</td>\n",
       "      <td>Ch</td>\n",
       "      <td>Yes</td>\n",
       "      <td>&gt;30</td>\n",
       "    </tr>\n",
       "    <tr>\n",
       "      <th>2</th>\n",
       "      <td>64410</td>\n",
       "      <td>86047875</td>\n",
       "      <td>AfricanAmerican</td>\n",
       "      <td>Female</td>\n",
       "      <td>[20-30)</td>\n",
       "      <td>?</td>\n",
       "      <td>1</td>\n",
       "      <td>1</td>\n",
       "      <td>7</td>\n",
       "      <td>2</td>\n",
       "      <td>...</td>\n",
       "      <td>No</td>\n",
       "      <td>No</td>\n",
       "      <td>No</td>\n",
       "      <td>No</td>\n",
       "      <td>No</td>\n",
       "      <td>No</td>\n",
       "      <td>No</td>\n",
       "      <td>No</td>\n",
       "      <td>Yes</td>\n",
       "      <td>NO</td>\n",
       "    </tr>\n",
       "    <tr>\n",
       "      <th>3</th>\n",
       "      <td>500364</td>\n",
       "      <td>82442376</td>\n",
       "      <td>Caucasian</td>\n",
       "      <td>Male</td>\n",
       "      <td>[30-40)</td>\n",
       "      <td>?</td>\n",
       "      <td>1</td>\n",
       "      <td>1</td>\n",
       "      <td>7</td>\n",
       "      <td>2</td>\n",
       "      <td>...</td>\n",
       "      <td>No</td>\n",
       "      <td>Up</td>\n",
       "      <td>No</td>\n",
       "      <td>No</td>\n",
       "      <td>No</td>\n",
       "      <td>No</td>\n",
       "      <td>No</td>\n",
       "      <td>Ch</td>\n",
       "      <td>Yes</td>\n",
       "      <td>NO</td>\n",
       "    </tr>\n",
       "    <tr>\n",
       "      <th>4</th>\n",
       "      <td>16680</td>\n",
       "      <td>42519267</td>\n",
       "      <td>Caucasian</td>\n",
       "      <td>Male</td>\n",
       "      <td>[40-50)</td>\n",
       "      <td>?</td>\n",
       "      <td>1</td>\n",
       "      <td>1</td>\n",
       "      <td>7</td>\n",
       "      <td>1</td>\n",
       "      <td>...</td>\n",
       "      <td>No</td>\n",
       "      <td>Steady</td>\n",
       "      <td>No</td>\n",
       "      <td>No</td>\n",
       "      <td>No</td>\n",
       "      <td>No</td>\n",
       "      <td>No</td>\n",
       "      <td>Ch</td>\n",
       "      <td>Yes</td>\n",
       "      <td>NO</td>\n",
       "    </tr>\n",
       "  </tbody>\n",
       "</table>\n",
       "<p>5 rows × 50 columns</p>\n",
       "</div>"
      ],
      "text/plain": [
       "   encounter_id  patient_nbr             race  gender      age weight  \\\n",
       "0       2278392      8222157        Caucasian  Female   [0-10)      ?   \n",
       "1        149190     55629189        Caucasian  Female  [10-20)      ?   \n",
       "2         64410     86047875  AfricanAmerican  Female  [20-30)      ?   \n",
       "3        500364     82442376        Caucasian    Male  [30-40)      ?   \n",
       "4         16680     42519267        Caucasian    Male  [40-50)      ?   \n",
       "\n",
       "   admission_type_id  discharge_disposition_id  admission_source_id  \\\n",
       "0                  6                        25                    1   \n",
       "1                  1                         1                    7   \n",
       "2                  1                         1                    7   \n",
       "3                  1                         1                    7   \n",
       "4                  1                         1                    7   \n",
       "\n",
       "   time_in_hospital    ...     citoglipton insulin  glyburide-metformin  \\\n",
       "0                 1    ...              No      No                   No   \n",
       "1                 3    ...              No      Up                   No   \n",
       "2                 2    ...              No      No                   No   \n",
       "3                 2    ...              No      Up                   No   \n",
       "4                 1    ...              No  Steady                   No   \n",
       "\n",
       "   glipizide-metformin  glimepiride-pioglitazone  metformin-rosiglitazone  \\\n",
       "0                   No                        No                       No   \n",
       "1                   No                        No                       No   \n",
       "2                   No                        No                       No   \n",
       "3                   No                        No                       No   \n",
       "4                   No                        No                       No   \n",
       "\n",
       "   metformin-pioglitazone  change diabetesMed readmitted  \n",
       "0                      No      No          No         NO  \n",
       "1                      No      Ch         Yes        >30  \n",
       "2                      No      No         Yes         NO  \n",
       "3                      No      Ch         Yes         NO  \n",
       "4                      No      Ch         Yes         NO  \n",
       "\n",
       "[5 rows x 50 columns]"
      ]
     },
     "execution_count": 1,
     "metadata": {},
     "output_type": "execute_result"
    }
   ],
   "source": [
    "import pandas as pd\n",
    "pd.options.mode.chained_assignment = None  # default='warn'\n",
    "import numpy as np\n",
    "df = pd.read_csv('data/diabetic_data.csv', encoding = 'latin1',low_memory=False)\n",
    "\n",
    "df.head()"
   ]
  },
  {
   "cell_type": "markdown",
   "metadata": {},
   "source": [
    "First, the most important aspect of our data preparation is to narrow down our classification problem to binary classification, as we discussed above. We will be dropping all entries in which patients were readmitted over 30 days past their initial discharge. We will be changing all instances of \"NO\" (no readmittance) to 0 and all instances of \"&lt;30\" to 1."
   ]
  },
  {
   "cell_type": "code",
   "execution_count": 2,
   "metadata": {},
   "outputs": [],
   "source": [
    "df.readmitted[df.readmitted == 'NO' ] = 0\n",
    "df.readmitted[df.readmitted == '<30' ] = 1\n",
    "df = df.drop(df[df.readmitted == '>30'].index)"
   ]
  },
  {
   "cell_type": "markdown",
   "metadata": {},
   "source": [
    "Next, we will drop all features that are unnecessary for our classification model. Furthermore, we will be dropping entries in which there is unimputable data."
   ]
  },
  {
   "cell_type": "code",
   "execution_count": 3,
   "metadata": {},
   "outputs": [],
   "source": [
    "from sklearn.model_selection import train_test_split\n",
    "\n",
    "df.drop(['encounter_id', 'patient_nbr', 'weight', 'payer_code', 'medical_specialty'], axis=1, inplace=True)\n",
    "df.dropna(axis=1, how='all')\n",
    "df_train, df_test = train_test_split(df, test_size=0.2, stratify=df['readmitted'])"
   ]
  },
  {
   "cell_type": "markdown",
   "metadata": {},
   "source": [
    "Then, we must encode all the categorical features as integers."
   ]
  },
  {
   "cell_type": "code",
   "execution_count": 4,
   "metadata": {},
   "outputs": [
    {
     "data": {
      "text/html": [
       "<div>\n",
       "<style>\n",
       "    .dataframe thead tr:only-child th {\n",
       "        text-align: right;\n",
       "    }\n",
       "\n",
       "    .dataframe thead th {\n",
       "        text-align: left;\n",
       "    }\n",
       "\n",
       "    .dataframe tbody tr th {\n",
       "        vertical-align: top;\n",
       "    }\n",
       "</style>\n",
       "<table border=\"1\" class=\"dataframe\">\n",
       "  <thead>\n",
       "    <tr style=\"text-align: right;\">\n",
       "      <th></th>\n",
       "      <th>race</th>\n",
       "      <th>gender</th>\n",
       "      <th>age</th>\n",
       "      <th>admission_type_id</th>\n",
       "      <th>discharge_disposition_id</th>\n",
       "      <th>admission_source_id</th>\n",
       "      <th>time_in_hospital</th>\n",
       "      <th>num_lab_procedures</th>\n",
       "      <th>num_procedures</th>\n",
       "      <th>num_medications</th>\n",
       "      <th>...</th>\n",
       "      <th>glyburide-metformin_int</th>\n",
       "      <th>glipizide-metformin_int</th>\n",
       "      <th>glimepiride-pioglitazone_int</th>\n",
       "      <th>metformin-rosiglitazone_int</th>\n",
       "      <th>metformin-pioglitazone_int</th>\n",
       "      <th>change_int</th>\n",
       "      <th>diabetesMed_int</th>\n",
       "      <th>admission_type_id_int</th>\n",
       "      <th>discharge_disposition_id_int</th>\n",
       "      <th>admission_source_id_int</th>\n",
       "    </tr>\n",
       "  </thead>\n",
       "  <tbody>\n",
       "    <tr>\n",
       "      <th>47721</th>\n",
       "      <td>Caucasian</td>\n",
       "      <td>Male</td>\n",
       "      <td>[80-90)</td>\n",
       "      <td>1</td>\n",
       "      <td>3</td>\n",
       "      <td>7</td>\n",
       "      <td>-0.114867</td>\n",
       "      <td>0.471708</td>\n",
       "      <td>-0.225250</td>\n",
       "      <td>-1.059302</td>\n",
       "      <td>...</td>\n",
       "      <td>1</td>\n",
       "      <td>0</td>\n",
       "      <td>0</td>\n",
       "      <td>0</td>\n",
       "      <td>0</td>\n",
       "      <td>1</td>\n",
       "      <td>0</td>\n",
       "      <td>1</td>\n",
       "      <td>3</td>\n",
       "      <td>7</td>\n",
       "    </tr>\n",
       "    <tr>\n",
       "      <th>98631</th>\n",
       "      <td>Caucasian</td>\n",
       "      <td>Female</td>\n",
       "      <td>[90-100)</td>\n",
       "      <td>3</td>\n",
       "      <td>1</td>\n",
       "      <td>1</td>\n",
       "      <td>-0.450195</td>\n",
       "      <td>-0.187521</td>\n",
       "      <td>-0.225250</td>\n",
       "      <td>-0.582235</td>\n",
       "      <td>...</td>\n",
       "      <td>1</td>\n",
       "      <td>0</td>\n",
       "      <td>0</td>\n",
       "      <td>0</td>\n",
       "      <td>0</td>\n",
       "      <td>0</td>\n",
       "      <td>1</td>\n",
       "      <td>3</td>\n",
       "      <td>1</td>\n",
       "      <td>1</td>\n",
       "    </tr>\n",
       "    <tr>\n",
       "      <th>55025</th>\n",
       "      <td>Hispanic</td>\n",
       "      <td>Female</td>\n",
       "      <td>[70-80)</td>\n",
       "      <td>2</td>\n",
       "      <td>5</td>\n",
       "      <td>7</td>\n",
       "      <td>-0.114867</td>\n",
       "      <td>-0.897461</td>\n",
       "      <td>-0.225250</td>\n",
       "      <td>-0.343702</td>\n",
       "      <td>...</td>\n",
       "      <td>1</td>\n",
       "      <td>0</td>\n",
       "      <td>0</td>\n",
       "      <td>0</td>\n",
       "      <td>0</td>\n",
       "      <td>0</td>\n",
       "      <td>1</td>\n",
       "      <td>2</td>\n",
       "      <td>5</td>\n",
       "      <td>7</td>\n",
       "    </tr>\n",
       "    <tr>\n",
       "      <th>24599</th>\n",
       "      <td>Caucasian</td>\n",
       "      <td>Male</td>\n",
       "      <td>[30-40)</td>\n",
       "      <td>1</td>\n",
       "      <td>1</td>\n",
       "      <td>6</td>\n",
       "      <td>-0.450195</td>\n",
       "      <td>-0.035392</td>\n",
       "      <td>-0.805627</td>\n",
       "      <td>-0.105168</td>\n",
       "      <td>...</td>\n",
       "      <td>1</td>\n",
       "      <td>0</td>\n",
       "      <td>0</td>\n",
       "      <td>0</td>\n",
       "      <td>0</td>\n",
       "      <td>1</td>\n",
       "      <td>1</td>\n",
       "      <td>1</td>\n",
       "      <td>1</td>\n",
       "      <td>6</td>\n",
       "    </tr>\n",
       "    <tr>\n",
       "      <th>70940</th>\n",
       "      <td>AfricanAmerican</td>\n",
       "      <td>Male</td>\n",
       "      <td>[70-80)</td>\n",
       "      <td>1</td>\n",
       "      <td>2</td>\n",
       "      <td>7</td>\n",
       "      <td>-0.785524</td>\n",
       "      <td>1.942297</td>\n",
       "      <td>-0.805627</td>\n",
       "      <td>0.491166</td>\n",
       "      <td>...</td>\n",
       "      <td>1</td>\n",
       "      <td>0</td>\n",
       "      <td>0</td>\n",
       "      <td>0</td>\n",
       "      <td>0</td>\n",
       "      <td>1</td>\n",
       "      <td>0</td>\n",
       "      <td>1</td>\n",
       "      <td>2</td>\n",
       "      <td>7</td>\n",
       "    </tr>\n",
       "  </tbody>\n",
       "</table>\n",
       "<p>5 rows × 81 columns</p>\n",
       "</div>"
      ],
      "text/plain": [
       "                  race  gender       age  admission_type_id  \\\n",
       "47721        Caucasian    Male   [80-90)                  1   \n",
       "98631        Caucasian  Female  [90-100)                  3   \n",
       "55025         Hispanic  Female   [70-80)                  2   \n",
       "24599        Caucasian    Male   [30-40)                  1   \n",
       "70940  AfricanAmerican    Male   [70-80)                  1   \n",
       "\n",
       "       discharge_disposition_id  admission_source_id  time_in_hospital  \\\n",
       "47721                         3                    7         -0.114867   \n",
       "98631                         1                    1         -0.450195   \n",
       "55025                         5                    7         -0.114867   \n",
       "24599                         1                    6         -0.450195   \n",
       "70940                         2                    7         -0.785524   \n",
       "\n",
       "       num_lab_procedures  num_procedures  num_medications  \\\n",
       "47721            0.471708       -0.225250        -1.059302   \n",
       "98631           -0.187521       -0.225250        -0.582235   \n",
       "55025           -0.897461       -0.225250        -0.343702   \n",
       "24599           -0.035392       -0.805627        -0.105168   \n",
       "70940            1.942297       -0.805627         0.491166   \n",
       "\n",
       "                ...            glyburide-metformin_int  \\\n",
       "47721           ...                                  1   \n",
       "98631           ...                                  1   \n",
       "55025           ...                                  1   \n",
       "24599           ...                                  1   \n",
       "70940           ...                                  1   \n",
       "\n",
       "       glipizide-metformin_int  glimepiride-pioglitazone_int  \\\n",
       "47721                        0                             0   \n",
       "98631                        0                             0   \n",
       "55025                        0                             0   \n",
       "24599                        0                             0   \n",
       "70940                        0                             0   \n",
       "\n",
       "      metformin-rosiglitazone_int metformin-pioglitazone_int change_int  \\\n",
       "47721                           0                          0          1   \n",
       "98631                           0                          0          0   \n",
       "55025                           0                          0          0   \n",
       "24599                           0                          0          1   \n",
       "70940                           0                          0          1   \n",
       "\n",
       "       diabetesMed_int admission_type_id_int discharge_disposition_id_int  \\\n",
       "47721                0                     1                            3   \n",
       "98631                1                     3                            1   \n",
       "55025                1                     2                            5   \n",
       "24599                1                     1                            1   \n",
       "70940                0                     1                            2   \n",
       "\n",
       "      admission_source_id_int  \n",
       "47721                       7  \n",
       "98631                       1  \n",
       "55025                       7  \n",
       "24599                       6  \n",
       "70940                       7  \n",
       "\n",
       "[5 rows x 81 columns]"
      ]
     },
     "execution_count": 4,
     "metadata": {},
     "output_type": "execute_result"
    }
   ],
   "source": [
    "from sklearn.preprocessing import LabelEncoder\n",
    "from sklearn.preprocessing import StandardScaler\n",
    "int_categorical_headers = [\n",
    "'admission_type_id',\n",
    "'discharge_disposition_id',\n",
    "'admission_source_id',\n",
    "]\n",
    "numeric_headers = [\n",
    "    \"time_in_hospital\", \n",
    "    \"num_lab_procedures\", \n",
    "    \"num_procedures\", \n",
    "    \"num_medications\", \n",
    "    \"number_outpatient\", \n",
    "    \"number_emergency\", \n",
    "    \"number_inpatient\", \n",
    "    \"number_diagnoses\",\n",
    "]\n",
    "categorical_headers = [\n",
    " 'diag_3',\n",
    " 'diag_2',\n",
    " 'diag_1',\n",
    " 'race',\n",
    " 'gender',\n",
    " 'age',\n",
    " 'max_glu_serum',\n",
    " 'A1Cresult',\n",
    " 'metformin',\n",
    " 'repaglinide',\n",
    " 'nateglinide',\n",
    " 'chlorpropamide',\n",
    " 'glimepiride',\n",
    " 'acetohexamide',\n",
    " 'glipizide',\n",
    " 'glyburide',\n",
    " 'tolbutamide',\n",
    " 'pioglitazone',\n",
    " 'rosiglitazone',\n",
    " 'acarbose',\n",
    " 'miglitol',\n",
    " 'troglitazone',\n",
    " 'tolazamide',\n",
    " 'examide',\n",
    " 'citoglipton',\n",
    " 'insulin',\n",
    " 'glyburide-metformin',\n",
    " 'glipizide-metformin',\n",
    " 'glimepiride-pioglitazone',\n",
    " 'metformin-rosiglitazone',\n",
    " 'metformin-pioglitazone',\n",
    " 'change',\n",
    " 'diabetesMed']\n",
    "\n",
    "df_train.replace(to_replace=' ?',value=np.nan, inplace=True)\n",
    "df_train.dropna(inplace=True)\n",
    "df_train.reset_index()\n",
    "\n",
    "df_test.replace(to_replace=' ?',value=np.nan, inplace=True)\n",
    "df_test.dropna(inplace=True)\n",
    "df_test.reset_index()\n",
    "\n",
    "encoders = dict()\n",
    "\n",
    "for col in categorical_headers:\n",
    "    df[col] = df[col].str.strip()\n",
    "    df_train[col] = df_train[col].str.strip()\n",
    "    df_test[col] = df_test[col].str.strip()\n",
    "    \n",
    "\n",
    "    encoders[col] = LabelEncoder()\n",
    "    df[col+'_int'] = encoders[col].fit_transform(df[col])\n",
    "    df_train[col+'_int'] = encoders[col].transform(df_train[col])\n",
    "    df_test[col+'_int'] = encoders[col].transform(df_test[col])\n",
    "    \n",
    "    \n",
    "    \n",
    "for col in int_categorical_headers:\n",
    "    df[col+'_int'] = df[col]\n",
    "    df_train[col+'_int'] = df_train[col]\n",
    "    df_test[col+'_int'] = df_test[col]\n",
    "\n",
    "for col in numeric_headers:\n",
    "    df_train[col] = df_train[col].astype(np.float)\n",
    "    df_test[col] = df_test[col].astype(np.float)\n",
    "    df[col] = df[col].astype(np.float)\n",
    "    ss = StandardScaler()\n",
    "    df[col] = ss.fit_transform(df[col].values.reshape(-1, 1))\n",
    "    df_train[col] = ss.transform(df_train[col].values.reshape(-1, 1))\n",
    "    df_test[col] = ss.transform(df_test[col].values.reshape(-1, 1))\n",
    "\n",
    "    \n",
    "df_train.head()"
   ]
  },
  {
   "cell_type": "markdown",
   "metadata": {},
   "source": [
    "### 1.4 Cross-product Features"
   ]
  },
  {
   "cell_type": "markdown",
   "metadata": {},
   "source": [
    "After looking at all the useful features in our dataset, we need to find features that can be combined into cross-product features for the purpose of memorization techniques in wide networks. Unfortunately, most of the medications and illnesses in the dataset require extreme domain knowledge, outside our realm of expertise as computer science undergraduates. Despite our lack of knowledge in the medical domain, we are still left with a few options that we can logically group together with common intuition in order to discover and create new features. These include:\n",
    "\n",
    "- [race, gender]: Race and gender may not be the deciding factor in our model's predictions. However, these two factors are intuitive and could potentially have correlations to different classification outcomes. Furthermore, race and gender cross-products make conceptual sense because certain race-gender combinations can sometimes have varying correlations to diabetic status. This could potentially be due to genetics and socioeconomic factors.\n",
    "\n",
    "- [age, diag_1]: Age and the patient's primary diagnosis are two other features that seem like they could be logiically grouped together. Crossing age with diagnosis may give more importance to a patient's age when determining how resilient they are to a certain illness and how that impacts their potential readmittance to the hospital. It is clear that in most circumstances, patients with a more advanced age might not react as well as a young adult, given the same illness.\n",
    "\n",
    "- [gender, diag_1]: Similar to the reasoning to age and primary diagnosis, it might be useful explore a gender-diagnosis cross-product feature. There may be primary diagnoses that vary by each gender.\n",
    "\n",
    "Though we have labelled instances of Cross-product features we would like to experiment, we thought it might also be worthwhile to mention a cross-product feature type that we would not want to experiment with. In particular, we do not think it would be wise to create cross-product features of the 24 different medications. Though it may be tempting to want to see how different combinations medications might correlate with one another, we simply do not have the domain expertise to authoritatively determine whether two medications may be mixed with each other. If we haphazardly generate cross-product features of two incompatible drugs, it would deviate from a realistic model.\n",
    "\n"
   ]
  },
  {
   "cell_type": "markdown",
   "metadata": {},
   "source": [
    "### 1.5 Evaluation Metrics"
   ]
  },
  {
   "cell_type": "markdown",
   "metadata": {},
   "source": [
    "In determining the most important evaluation metric, it is important to reiterate the business case with our classification model. As we stated before, our binary classification problem aims to let doctors and patients know whether the patient is at risk for a hospital readmission within 30 days of discharge. Given that information, we strongly believe that it is of the utmost importance to reduce the number of false-negatives. In the context of our classification problem, a false-negative is would entail classifying a patient as a \"NO\" admittance, when they in truth, are at risk for return. Telling a patient that they have nothing to worry about, only to be hospitalized later, can be damaging to all stakeholders at hand. The patient might be dissapointed because they could have taken more precautionary measures despite not being told to, and the doctor's credibility would be damaged. It would be better to overprepare a discharged patient for the worst-case scenario by giving them a false-positive diagnosis.\n",
    "\n",
    "Given the contextual analysis above of our business case, we believe that the most appropriate evaluation metric for our model would be a Recall scoring model. We have decided to use Recall as our scoring metric because it is equally important whether or not the model's predictions are true-positive or true-negative, but also necessary to penalize the model for giving false-negatives that could underprepare the patient for planning their future health once they are discharged.\n"
   ]
  },
  {
   "cell_type": "markdown",
   "metadata": {},
   "source": [
    "### 1.6 Cross Validation Methods"
   ]
  },
  {
   "cell_type": "code",
   "execution_count": 5,
   "metadata": {},
   "outputs": [
    {
     "data": {
      "image/png": "[encoded data removed]",
      "text/plain": [
       "<matplotlib.figure.Figure at 0x2522fcf4fd0>"
      ]
     },
     "metadata": {},
     "output_type": "display_data"
    }
   ],
   "source": [
    "%matplotlib inline\n",
    "import matplotlib.pyplot as plt\n",
    "\n",
    "uniq, label = np.unique(df['readmitted'], return_inverse=True)\n",
    "\n",
    "plt.pie(np.bincount(label), labels=uniq, autopct='%1.1f%%')\n",
    "plt.axis('equal')\n",
    "plt.title('Class Distribution:')\n",
    "plt.show()"
   ]
  },
  {
   "cell_type": "markdown",
   "metadata": {},
   "source": [
    "By looking at our class distribution visualization above, we can tell that we have a large class imbalance. 82.8% of our entries consist of patients who were not readmitted, while 17.2% of our dataset was readmitted. Because we have two unbalanced classes, it is statistically necessary to use a Stratified Split to ensure that each fold has an equal representation of the under-represented class. Because we only have around ~40,000 instances in our training set, compared to the tens of millions of diabetic patients in the United States, it makes sense to perform our cross-validation using a k-folding method. Due to the size limitation of our dataset when compared to the population numbers, we need to maximize the number of instances in each iteration of k-fold. A k = 10 fold cross-validation will utilize 90% of the data in each iteration. For the reasons mentioned above, we believe a 10-fold stratified cross validation will maximize the generalization performance of our trained model.\n"
   ]
  },
  {
   "cell_type": "markdown",
   "metadata": {},
   "source": [
    "## 2. Modeling"
   ]
  },
  {
   "cell_type": "markdown",
   "metadata": {},
   "source": [
    "For our classification model, we will be experimenting with different implementations of neural networks. With our wide network, we will be implementing the cross-product features that we discussed above. For our deep network, we will be experimenting with different numbers of network layers. We will then integrate both wide and deep network architectures into one network and then experiment with different network architectures."
   ]
  },
  {
   "cell_type": "markdown",
   "metadata": {},
   "source": [
    "### 2.1 Wide and Deep Network Implementation"
   ]
  },
  {
   "cell_type": "markdown",
   "metadata": {},
   "source": [
    "We first start by creating a standard combined wide and deep network implementation. "
   ]
  },
  {
   "cell_type": "code",
   "execution_count": 6,
   "metadata": {},
   "outputs": [
    {
     "name": "stderr",
     "output_type": "stream",
     "text": [
      "Using TensorFlow backend.\n"
     ]
    }
   ],
   "source": [
    "from keras.models import Sequential\n",
    "from keras.layers import Dense, Activation, Input\n",
    "from keras.layers import Embedding, Flatten, Merge, concatenate\n",
    "from keras.models import Model\n",
    "from sklearn import metrics as mt\n",
    "\n",
    "from sklearn.model_selection import cross_val_score\n",
    "from sklearn.model_selection import KFold, ShuffleSplit\n",
    "from sklearn.model_selection import StratifiedKFold, StratifiedShuffleSplit\n",
    "\n",
    "from sklearn.metrics import make_scorer, accuracy_score\n",
    "from sklearn.metrics import precision_score, recall_score, f1_score"
   ]
  },
  {
   "cell_type": "code",
   "execution_count": 7,
   "metadata": {},
   "outputs": [],
   "source": [
    "master_numeric_headers = numeric_headers + int_categorical_headers\n",
    "categorical_headers_ints = [x+'_int' for x in categorical_headers]\n",
    "df_num =  df[numeric_headers].values\n",
    "X_train_num =  df_train[master_numeric_headers].values\n",
    "X_test_num =  df_test[master_numeric_headers].values\n",
    "y_train = df_train['readmitted'].values.astype(np.int)\n",
    "y_test = df_test['readmitted'].values.astype(np.int)"
   ]
  },
  {
   "cell_type": "code",
   "execution_count": 8,
   "metadata": {},
   "outputs": [],
   "source": [
    "# Define cross columns for later. Declare them now in case a cell needs to \n",
    "# be rerun, eliminating single cell dependencies\n",
    "\n",
    "cross_columns = [['gender','race'],\n",
    "                 ['age', 'diag_1'],\n",
    "                ['gender', 'diag_1']]"
   ]
  },
  {
   "cell_type": "markdown",
   "metadata": {},
   "source": [
    "### Standard Configuration Wide and Deep Network"
   ]
  },
  {
   "cell_type": "code",
   "execution_count": 14,
   "metadata": {},
   "outputs": [
    {
     "name": "stdout",
     "output_type": "stream",
     "text": [
      "Epoch 1/5\n",
      "47677/47677 [==============================] - 29s - loss: 0.4236 - acc: 0.8342    \n",
      "Epoch 2/5\n",
      "47677/47677 [==============================] - 27s - loss: 0.4048 - acc: 0.8376    \n",
      "Epoch 3/5\n",
      "47677/47677 [==============================] - 27s - loss: 0.3969 - acc: 0.8389    \n",
      "Epoch 4/5\n",
      "47677/47677 [==============================] - 27s - loss: 0.3912 - acc: 0.8395    \n",
      "Epoch 5/5\n",
      "47677/47677 [==============================] - 27s - loss: 0.3866 - acc: 0.8408    \n",
      "Epoch 1/5\n",
      "47678/47678 [==============================] - 29s - loss: 0.4249 - acc: 0.8332    \n",
      "Epoch 2/5\n",
      "47678/47678 [==============================] - 27s - loss: 0.4072 - acc: 0.8361    \n",
      "Epoch 3/5\n",
      "47678/47678 [==============================] - 27s - loss: 0.3996 - acc: 0.8375    \n",
      "Epoch 4/5\n",
      "47678/47678 [==============================] - 27s - loss: 0.3937 - acc: 0.8387    \n",
      "Epoch 5/5\n",
      "47678/47678 [==============================] - 27s - loss: 0.3892 - acc: 0.8396    \n",
      "Epoch 1/5\n",
      "47678/47678 [==============================] - 29s - loss: 0.4228 - acc: 0.8341    \n",
      "Epoch 2/5\n",
      "47678/47678 [==============================] - 27s - loss: 0.4054 - acc: 0.8371    \n",
      "Epoch 3/5\n",
      "47678/47678 [==============================] - 27s - loss: 0.3974 - acc: 0.8384    \n",
      "Epoch 4/5\n",
      "47678/47678 [==============================] - 27s - loss: 0.3916 - acc: 0.8396    \n",
      "Epoch 5/5\n",
      "47678/47678 [==============================] - 27s - loss: 0.3872 - acc: 0.8401    \n",
      "Epoch 1/5\n",
      "47678/47678 [==============================] - 29s - loss: 0.4231 - acc: 0.8341    \n",
      "Epoch 2/5\n",
      "47678/47678 [==============================] - 27s - loss: 0.4050 - acc: 0.8365    \n",
      "Epoch 3/5\n",
      "47678/47678 [==============================] - 27s - loss: 0.3972 - acc: 0.8380    \n",
      "Epoch 4/5\n",
      "47678/47678 [==============================] - 27s - loss: 0.3912 - acc: 0.8395    \n",
      "Epoch 5/5\n",
      "47678/47678 [==============================] - 27s - loss: 0.3865 - acc: 0.8412    \n",
      "Epoch 1/5\n",
      "47678/47678 [==============================] - 29s - loss: 0.4223 - acc: 0.8337    \n",
      "Epoch 2/5\n",
      "47678/47678 [==============================] - 27s - loss: 0.4039 - acc: 0.8368    \n",
      "Epoch 3/5\n",
      "47678/47678 [==============================] - 27s - loss: 0.3961 - acc: 0.8389    \n",
      "Epoch 4/5\n",
      "47678/47678 [==============================] - 27s - loss: 0.3901 - acc: 0.8398    \n",
      "Epoch 5/5\n",
      "47678/47678 [==============================] - 27s - loss: 0.3855 - acc: 0.8411    \n",
      "Epoch 1/5\n",
      "47679/47679 [==============================] - 30s - loss: 0.4241 - acc: 0.8334    \n",
      "Epoch 2/5\n",
      "47679/47679 [==============================] - 27s - loss: 0.4050 - acc: 0.8368    \n",
      "Epoch 3/5\n",
      "47679/47679 [==============================] - 27s - loss: 0.3969 - acc: 0.8386    \n",
      "Epoch 4/5\n",
      "47679/47679 [==============================] - 28s - loss: 0.3911 - acc: 0.8401    \n",
      "Epoch 5/5\n",
      "47679/47679 [==============================] - 27s - loss: 0.3867 - acc: 0.8414    \n",
      "Epoch 1/5\n",
      "47679/47679 [==============================] - 30s - loss: 0.4238 - acc: 0.8331    \n",
      "Epoch 2/5\n",
      "47679/47679 [==============================] - 28s - loss: 0.4032 - acc: 0.8376    \n",
      "Epoch 3/5\n",
      "47679/47679 [==============================] - 27s - loss: 0.3949 - acc: 0.8395    \n",
      "Epoch 4/5\n",
      "47679/47679 [==============================] - 27s - loss: 0.3887 - acc: 0.8409    \n",
      "Epoch 5/5\n",
      "47679/47679 [==============================] - 27s - loss: 0.3840 - acc: 0.8419    \n",
      "Epoch 1/5\n",
      "47679/47679 [==============================] - 30s - loss: 0.4235 - acc: 0.8337    \n",
      "Epoch 2/5\n",
      "47679/47679 [==============================] - 27s - loss: 0.4053 - acc: 0.8370    \n",
      "Epoch 3/5\n",
      "47679/47679 [==============================] - 28s - loss: 0.3980 - acc: 0.8384    \n",
      "Epoch 4/5\n",
      "47679/47679 [==============================] - 28s - loss: 0.3923 - acc: 0.8399    \n",
      "Epoch 5/5\n",
      "47679/47679 [==============================] - 28s - loss: 0.3880 - acc: 0.8408    \n",
      "Epoch 1/5\n",
      "47679/47679 [==============================] - 30s - loss: 0.4243 - acc: 0.8328    \n",
      "Epoch 2/5\n",
      "47679/47679 [==============================] - 27s - loss: 0.4048 - acc: 0.8370    \n",
      "Epoch 3/5\n",
      "47679/47679 [==============================] - 28s - loss: 0.3968 - acc: 0.8386    \n",
      "Epoch 4/5\n",
      "47679/47679 [==============================] - 28s - loss: 0.3913 - acc: 0.8397    \n",
      "Epoch 5/5\n",
      "47679/47679 [==============================] - 28s - loss: 0.3870 - acc: 0.8411    \n",
      "Epoch 1/5\n",
      "47679/47679 [==============================] - 31s - loss: 0.4223 - acc: 0.8341    \n",
      "Epoch 2/5\n",
      "47679/47679 [==============================] - 28s - loss: 0.4039 - acc: 0.8379    \n",
      "Epoch 3/5\n",
      "47679/47679 [==============================] - 28s - loss: 0.3962 - acc: 0.8390    \n",
      "Epoch 4/5\n",
      "47679/47679 [==============================] - 28s - loss: 0.3908 - acc: 0.8399    \n",
      "Epoch 5/5\n",
      "47679/47679 [==============================] - 28s - loss: 0.3862 - acc: 0.8406    \n"
     ]
    }
   ],
   "source": [
    "num_folds = 10\n",
    "\n",
    "model_list1 = []\n",
    "yhat_list1 = []\n",
    "y_test_list1 = []\n",
    "\n",
    "skf = StratifiedKFold(n_splits=num_folds, shuffle=True)\n",
    "for iter_num, (train_indices, test_indices) in enumerate(skf.split(df_train.drop(['readmitted'], axis = 1), df_train['readmitted'])):\n",
    "    df_train_cv = df_train.iloc[train_indices]\n",
    "    df_test_cv = df_train.iloc[test_indices]\n",
    "    embed_branches = []\n",
    "    X_ints_train = []\n",
    "    X_ints_test = []\n",
    "    all_inputs = []\n",
    "    all_branch_outputs = []\n",
    "    \n",
    "    categorical_headers_ints = [x+'_int' for x in categorical_headers]\n",
    "    master_numeric_headers = numeric_headers + int_categorical_headers\n",
    "    df_num =  df_train_cv[master_numeric_headers].values\n",
    "    X_train_num =  df_train_cv[master_numeric_headers].values\n",
    "    X_test_num =  df_test_cv[master_numeric_headers].values\n",
    "    y_train = df_train_cv['readmitted'].values.astype(np.int)\n",
    "    y_test = df_test_cv['readmitted'].values.astype(np.int)\n",
    "\n",
    "    for cols in cross_columns:\n",
    "        # encode crossed columns as ints for the embedding\n",
    "        enc = LabelEncoder()\n",
    "\n",
    "        # create crossed labels\n",
    "        # needs to be commented better, Eric!\n",
    "        X_crossed_train = df_train_cv[cols].apply(lambda x: '_'.join(x), axis=1)\n",
    "        X_crossed_test = df_test_cv[cols].apply(lambda x: '_'.join(x), axis=1)\n",
    "\n",
    "        enc.fit(np.hstack((X_crossed_train.values,  X_crossed_test.values)))\n",
    "        X_crossed_train = enc.transform(X_crossed_train)\n",
    "        X_crossed_test = enc.transform(X_crossed_test)\n",
    "        X_ints_train.append( X_crossed_train )\n",
    "        X_ints_test.append( X_crossed_test )\n",
    "\n",
    "        # get the number of categories\n",
    "        N = max(X_ints_train[-1]+1) # same as the max(df_train[col])\n",
    "\n",
    "        # create embedding branch from the number of categories\n",
    "        inputs = Input(shape=(1,),dtype='int32', name = '_'.join(cols))\n",
    "        all_inputs.append(inputs)\n",
    "        x = Embedding(input_dim=N, output_dim=int(np.sqrt(N)), input_length=1)(inputs)\n",
    "        x = Flatten()(x)\n",
    "        all_branch_outputs.append(x)\n",
    "\n",
    "    # merge the branches together\n",
    "    wide_branch = concatenate(all_branch_outputs)\n",
    "\n",
    "    # reset this input branch\n",
    "    all_branch_outputs = []\n",
    "    # add in the embeddings\n",
    "    for col in categorical_headers_ints:\n",
    "        # encode as ints for the embedding\n",
    "        X_ints_train.append( df_train_cv[col].values )\n",
    "        X_ints_test.append( df_test_cv[col].values )\n",
    "\n",
    "        # get the number of categories\n",
    "        N = max(X_ints_train[-1]+1) # same as the max(df_train[col])\n",
    "\n",
    "        # create embedding branch from the number of categories\n",
    "        inputs = Input(shape=(1,),dtype='int32', name=col)\n",
    "        all_inputs.append(inputs)\n",
    "        x = Embedding(input_dim=N, output_dim=int(np.sqrt(N)), input_length=1)(inputs)\n",
    "        x = Flatten()(x)\n",
    "        all_branch_outputs.append(x)\n",
    "\n",
    "    # also get a dense branch of the numeric features\n",
    "    all_inputs.append(Input(shape=(X_train_num.shape[1],),sparse=False,name='numeric_data'))\n",
    "    x = Dense(units=20, activation='relu')(all_inputs[-1])\n",
    "    all_branch_outputs.append( x )\n",
    "\n",
    "    # merge the branches together\n",
    "    deep_branch = concatenate(all_branch_outputs)\n",
    "    deep_branch = Dense(units=50,activation='relu')(deep_branch)\n",
    "    deep_branch = Dense(units=10,activation='relu')(deep_branch)\n",
    "\n",
    "    final_branch = concatenate([wide_branch, deep_branch])\n",
    "    final_branch = Dense(units=1,activation='sigmoid')(final_branch)\n",
    "\n",
    "    modeltemp = Model(inputs=all_inputs, outputs=final_branch)\n",
    "\n",
    "    modeltemp.compile(optimizer='adagrad',\n",
    "                  loss='binary_crossentropy',\n",
    "                  metrics=['accuracy'])\n",
    "\n",
    "    modeltemp.fit(X_ints_train+ [X_train_num],\n",
    "            y_train, epochs=5, batch_size=32, verbose=1)\n",
    "    model_list1.append(modeltemp)\n",
    "    yhat_temp = np.round(modeltemp.predict(X_ints_test + [X_test_num]))\n",
    "    yhat_list1.append(yhat_temp)\n",
    "    y_test_list1.append(y_test)\n",
    "    "
   ]
  },
  {
   "cell_type": "markdown",
   "metadata": {},
   "source": [
    "### 2.2 Generalization Performance"
   ]
  },
  {
   "cell_type": "markdown",
   "metadata": {},
   "source": [
    "Our initial network was a generic wide and deep network, but we wanted to modify the network architecture in an attempt to achieve higher performance. Having two different network architectures to choose from could help us improve our generalization performance."
   ]
  },
  {
   "cell_type": "markdown",
   "metadata": {},
   "source": [
    "### Deeper \"Deep\" Network"
   ]
  },
  {
   "cell_type": "markdown",
   "metadata": {},
   "source": [
    "For our second network architecture modification, we are adding layers to the deep part of the wide and deep network. In our initial wide and deep network only had two deep layers. For this network modification, we will be adding three more layers."
   ]
  },
  {
   "cell_type": "markdown",
   "metadata": {},
   "source": [
    "*Due to timing constraints and computational limits, for the training and testing of this next architecture, we reduced our Stratified K Folds from 10 to 5 out of necessity. Within the context of time sensitivity, we believed it would be far more appropriate to reduce the number of folds, rather than reduce the number of epochs. This is due to the fact that the number of epochs has a significant impact on the performance, whereas the number of folds only impacts our __confidence__ in our generalization performance.*"
   ]
  },
  {
   "cell_type": "code",
   "execution_count": 16,
   "metadata": {
    "scrolled": false
   },
   "outputs": [
    {
     "name": "stdout",
     "output_type": "stream",
     "text": [
      "Epoch 1/5\n",
      "39731/39731 [==============================] - 27s - loss: 0.4255 - acc: 0.8331    \n",
      "Epoch 2/5\n",
      "39731/39731 [==============================] - 25s - loss: 0.4055 - acc: 0.8368    \n",
      "Epoch 3/5\n",
      "39731/39731 [==============================] - 25s - loss: 0.3967 - acc: 0.8377    \n",
      "Epoch 4/5\n",
      "39731/39731 [==============================] - 25s - loss: 0.3897 - acc: 0.8391    \n",
      "Epoch 5/5\n",
      "39731/39731 [==============================] - 24s - loss: 0.3842 - acc: 0.8402    \n",
      "Epoch 1/5\n",
      "39732/39732 [==============================] - 27s - loss: 0.4250 - acc: 0.8335    \n",
      "Epoch 2/5\n",
      "39732/39732 [==============================] - 25s - loss: 0.4024 - acc: 0.8379    \n",
      "Epoch 3/5\n",
      "39732/39732 [==============================] - 25s - loss: 0.3918 - acc: 0.8401    \n",
      "Epoch 4/5\n",
      "39732/39732 [==============================] - 25s - loss: 0.3841 - acc: 0.8425    \n",
      "Epoch 5/5\n",
      "39732/39732 [==============================] - 25s - loss: 0.3768 - acc: 0.8446    \n",
      "Epoch 1/5\n",
      "39732/39732 [==============================] - 28s - loss: 0.4243 - acc: 0.8344    \n",
      "Epoch 2/5\n",
      "39732/39732 [==============================] - 25s - loss: 0.4049 - acc: 0.8372    \n",
      "Epoch 3/5\n",
      "39732/39732 [==============================] - 25s - loss: 0.3960 - acc: 0.8385    \n",
      "Epoch 4/5\n",
      "39732/39732 [==============================] - 24s - loss: 0.3894 - acc: 0.8392    \n",
      "Epoch 5/5\n",
      "39732/39732 [==============================] - 25s - loss: 0.3843 - acc: 0.8411    \n",
      "Epoch 1/5\n",
      "39733/39733 [==============================] - 28s - loss: 0.4270 - acc: 0.8327    \n",
      "Epoch 2/5\n",
      "39733/39733 [==============================] - 25s - loss: 0.4060 - acc: 0.8368    \n",
      "Epoch 3/5\n",
      "39733/39733 [==============================] - 25s - loss: 0.3970 - acc: 0.8384    \n",
      "Epoch 4/5\n",
      "39733/39733 [==============================] - 25s - loss: 0.3899 - acc: 0.8405    \n",
      "Epoch 5/5\n",
      "39733/39733 [==============================] - 25s - loss: 0.3842 - acc: 0.8421    \n"
     ]
    }
   ],
   "source": [
    "model_list2 = []\n",
    "yhat_list2 = []\n",
    "y_test_list2 = []\n",
    "\n",
    "skf = StratifiedKFold(n_splits=4, shuffle=True)\n",
    "for iter_num, (train_indices, test_indices) in enumerate(skf.split(df_train.drop(['readmitted'], axis = 1), df_train['readmitted'])):\n",
    "    df_train_cv = df_train.iloc[train_indices]\n",
    "    df_test_cv = df_train.iloc[test_indices]\n",
    "    embed_branches = []\n",
    "    X_ints_train = []\n",
    "    X_ints_test = []\n",
    "    all_inputs = []\n",
    "    all_branch_outputs = []\n",
    "    \n",
    "    categorical_headers_ints = [x+'_int' for x in categorical_headers]\n",
    "    master_numeric_headers = numeric_headers + int_categorical_headers\n",
    "    df_num =  df_train_cv[master_numeric_headers].values\n",
    "    X_train_num =  df_train_cv[master_numeric_headers].values\n",
    "    X_test_num =  df_test_cv[master_numeric_headers].values\n",
    "    y_train = df_train_cv['readmitted'].values.astype(np.int)\n",
    "    y_test = df_test_cv['readmitted'].values.astype(np.int)\n",
    "\n",
    "    for cols in cross_columns:\n",
    "        # encode crossed columns as ints for the embedding\n",
    "        enc = LabelEncoder()\n",
    "\n",
    "        # create crossed labels\n",
    "        # needs to be commented better, Eric!\n",
    "        X_crossed_train = df_train_cv[cols].apply(lambda x: '_'.join(x), axis=1)\n",
    "        X_crossed_test = df_test_cv[cols].apply(lambda x: '_'.join(x), axis=1)\n",
    "\n",
    "        enc.fit(np.hstack((X_crossed_train.values,  X_crossed_test.values)))\n",
    "        X_crossed_train = enc.transform(X_crossed_train)\n",
    "        X_crossed_test = enc.transform(X_crossed_test)\n",
    "        X_ints_train.append( X_crossed_train )\n",
    "        X_ints_test.append( X_crossed_test )\n",
    "\n",
    "        # get the number of categories\n",
    "        N = max(X_ints_train[-1]+1) # same as the max(df_train[col])\n",
    "\n",
    "        # create embedding branch from the number of categories\n",
    "        inputs = Input(shape=(1,),dtype='int32', name = '_'.join(cols))\n",
    "        all_inputs.append(inputs)\n",
    "        x = Embedding(input_dim=N, output_dim=int(np.sqrt(N)), input_length=1)(inputs)\n",
    "        x = Flatten()(x)\n",
    "        all_branch_outputs.append(x)\n",
    "\n",
    "    # merge the branches together\n",
    "    wide_branch = concatenate(all_branch_outputs)\n",
    "\n",
    "    # reset this input branch\n",
    "    all_branch_outputs = []\n",
    "    # add in the embeddings\n",
    "    for col in categorical_headers_ints:\n",
    "        # encode as ints for the embedding\n",
    "        X_ints_train.append( df_train_cv[col].values )\n",
    "        X_ints_test.append( df_test_cv[col].values )\n",
    "\n",
    "        # get the number of categories\n",
    "        N = max(X_ints_train[-1]+1) # same as the max(df_train[col])\n",
    "\n",
    "        # create embedding branch from the number of categories\n",
    "        inputs = Input(shape=(1,),dtype='int32', name=col)\n",
    "        all_inputs.append(inputs)\n",
    "        x = Embedding(input_dim=N, output_dim=int(np.sqrt(N)), input_length=1)(inputs)\n",
    "        x = Flatten()(x)\n",
    "        all_branch_outputs.append(x)\n",
    "\n",
    "    # also get a dense branch of the numeric features\n",
    "    all_inputs.append(Input(shape=(X_train_num.shape[1],),sparse=False,name='numeric_data'))\n",
    "    x = Dense(units=20, activation='relu')(all_inputs[-1])\n",
    "    all_branch_outputs.append( x )\n",
    "\n",
    "    # merge the branches together\n",
    "    deep_branch = concatenate(all_branch_outputs)\n",
    "    deep_branch = Dense(units=50,activation='relu')(deep_branch)\n",
    "    deep_branch = Dense(units=40,activation='relu')(deep_branch)\n",
    "    deep_branch = Dense(units=30,activation='relu')(deep_branch)\n",
    "    deep_branch = Dense(units=20,activation='relu')(deep_branch)\n",
    "    deep_branch = Dense(units=10,activation='relu')(deep_branch)\n",
    "\n",
    "    final_branch = concatenate([wide_branch, deep_branch])\n",
    "    final_branch = Dense(units=1,activation='sigmoid')(final_branch)\n",
    "\n",
    "    modeltemp = Model(inputs=all_inputs, outputs=final_branch)\n",
    "\n",
    "    modeltemp.compile(optimizer='adagrad',\n",
    "                  loss='binary_crossentropy',\n",
    "                  metrics=['accuracy'])\n",
    "\n",
    "    modeltemp.fit(X_ints_train+ [X_train_num],\n",
    "            y_train, epochs=5, batch_size=32, verbose=1)\n",
    "    model_list2.append(modeltemp)\n",
    "    yhat_temp = np.round(modeltemp.predict(X_ints_test + [X_test_num]))\n",
    "    yhat_list2.append(yhat_temp)\n",
    "    y_test_list2.append(y_test)"
   ]
  },
  {
   "cell_type": "code",
   "execution_count": null,
   "metadata": {},
   "outputs": [],
   "source": [
    "SVG(model_to_dot(model3).create(prog='dot', format='svg'))"
   ]
  },
  {
   "cell_type": "markdown",
   "metadata": {},
   "source": [
    "### Visualizing Performance of Two Different Network Architectures"
   ]
  },
  {
   "cell_type": "markdown",
   "metadata": {},
   "source": [
    "Our first visualization is of the performance of the original wide and deep network. Though the verbose output for the above training displays accuracy, we must remind ourselves that we will be using recall score as our primary measure of performance. Again, we wish to penalize instances in which a classifier would yield a false negative."
   ]
  },
  {
   "cell_type": "code",
   "execution_count": 18,
   "metadata": {},
   "outputs": [
    {
     "name": "stdout",
     "output_type": "stream",
     "text": [
      "[[4301   89]\n",
      " [ 784  125]] 0.137513751375\n",
      "[[4294   95]\n",
      " [ 775  134]] 0.147414741474\n",
      "[[4306   83]\n",
      " [ 790  119]] 0.130913091309\n",
      "[[4280  109]\n",
      " [ 770  139]] 0.152915291529\n",
      "[[4280  109]\n",
      " [ 790  119]] 0.130913091309\n",
      "[[4319   70]\n",
      " [ 806  102]] 0.112334801762\n",
      "[[4261  128]\n",
      " [ 800  108]] 0.118942731278\n",
      "[[4287  102]\n",
      " [ 785  123]] 0.135462555066\n",
      "[[4312   77]\n",
      " [ 797  111]] 0.122246696035\n",
      "[[4293   96]\n",
      " [ 798  110]] 0.121145374449\n"
     ]
    },
    {
     "data": {
      "text/plain": [
       "<Container object of 10 artists>"
      ]
     },
     "execution_count": 18,
     "metadata": {},
     "output_type": "execute_result"
    },
    {
     "data": {
      "image/png": "[encoded data removed]",
      "text/plain": [
       "<matplotlib.figure.Figure at 0x254328a59b0>"
      ]
     },
     "metadata": {},
     "output_type": "display_data"
    }
   ],
   "source": [
    "scores1 = []\n",
    "\n",
    "for i in range(0, len(yhat_list1)):\n",
    "    print(mt.confusion_matrix(y_test_list1[i],yhat_list1[i]), mt.recall_score(y_test_list1[i],yhat_list1[i]))\n",
    "    scores1.append(mt.recall_score(y_test_list1[i],yhat_list1[i]))\n",
    "    \n",
    "import matplotlib.pyplot as plt\n",
    "%matplotlib inline\n",
    "\n",
    "i = list(range(1,num_folds+1))\n",
    "plt.bar(i,scores1)"
   ]
  },
  {
   "cell_type": "markdown",
   "metadata": {},
   "source": [
    "As you can see by our recall score, our recall score is horrendous. Especially within the scope of our business case, we would not want to deploy this classifier to a real world application for hospitals, in which lives are at stake."
   ]
  },
  {
   "cell_type": "code",
   "execution_count": 27,
   "metadata": {},
   "outputs": [
    {
     "name": "stdout",
     "output_type": "stream",
     "text": [
      "[[10754   219]\n",
      " [ 1962   310]] 0.136443661972\n",
      "[[10703   270]\n",
      " [ 2001   270]] 0.118890356671\n",
      "[[10684   289]\n",
      " [ 1945   326]] 0.143549097314\n",
      "[[10658   314]\n",
      " [ 1913   358]] 0.157639806253\n"
     ]
    },
    {
     "data": {
      "text/plain": [
       "<Container object of 4 artists>"
      ]
     },
     "execution_count": 27,
     "metadata": {},
     "output_type": "execute_result"
    },
    {
     "data": {
      "image/png": "[encoded data removed]",
      "text/plain": [
       "<matplotlib.figure.Figure at 0x254349b0048>"
      ]
     },
     "metadata": {},
     "output_type": "display_data"
    }
   ],
   "source": [
    "scores2 = []\n",
    "\n",
    "for i in range(0, len(yhat_list2)):\n",
    "    print(mt.confusion_matrix(y_test_list2[i],yhat_list2[i]), mt.recall_score(y_test_list2[i],yhat_list2[i]))\n",
    "    scores2.append(mt.recall_score(y_test_list2[i],yhat_list2[i]))\n",
    "    \n",
    "import matplotlib.pyplot as plt\n",
    "%matplotlib inline\n",
    "\n",
    "i = list(range(1,5))\n",
    "plt.bar(i,scores2)"
   ]
  },
  {
   "cell_type": "markdown",
   "metadata": {},
   "source": [
    "As one can observe from the two results above, it is extremely apparent why we cannot just rely on accuracy score when analyzing our classification performance. If this lab has taught us anything, it has strongly reinforced our knowledge when it comes to choosing a proper evaluation metric.\n",
    "\n",
    "Though our accuracy score was consistently above 80%, our recall score indicates that our classification model is not usable for our business case, in a real world deployed scenario."
   ]
  },
  {
   "cell_type": "markdown",
   "metadata": {},
   "source": [
    "### 2.3 Performance Analysis Compared to Scikit-Learn MLP"
   ]
  },
  {
   "cell_type": "markdown",
   "metadata": {},
   "source": [
    "Now that we have determined the better network architecture, how would our wide and deep network fare against the Scikit-Learn MultiLayer Perceptron?"
   ]
  },
  {
   "cell_type": "markdown",
   "metadata": {},
   "source": [
    "We would expect Tensorflow to perform better because it is optimized to perform better with GPU's. It does not prioritize training speed, and instead prioritizes performance."
   ]
  },
  {
   "cell_type": "markdown",
   "metadata": {},
   "source": [
    "*Again, due to timing constraints, we must limit the number of cross validation folds. With more time, we would be able to provide a higher confidence in our generalization performance when compared to Scikit-Learn.*"
   ]
  },
  {
   "cell_type": "code",
   "execution_count": 20,
   "metadata": {},
   "outputs": [
    {
     "name": "stdout",
     "output_type": "stream",
     "text": [
      "[[7765  136]\n",
      " [1476  159]] 0.540017347705\n",
      "[[7705  196]\n",
      " [1440  195]] 0.547229534294\n",
      "[[7609  292]\n",
      " [1385  250]] 0.557973925803\n"
     ]
    },
    {
     "name": "stderr",
     "output_type": "stream",
     "text": [
      "c:\\users\\ovall\\anaconda3\\envs\\tensorflow\\lib\\site-packages\\sklearn\\neural_network\\multilayer_perceptron.py:566: UserWarning: Training interrupted by user.\n",
      "  warnings.warn(\"Training interrupted by user.\")\n"
     ]
    },
    {
     "name": "stdout",
     "output_type": "stream",
     "text": [
      "[[7580  321]\n",
      " [1348  287]] 0.567453699779\n",
      "[[7721  180]\n",
      " [1429  206]] 0.551605978727\n",
      "[[7870   31]\n",
      " [1574   61]] 0.516692657261\n",
      "[[7802   99]\n",
      " [1502  133]] 0.534407753132\n",
      "[[7732  169]\n",
      " [1407  228]] 0.559029921889\n",
      "[[7493  408]\n",
      " [1311  324]] 0.57326305229\n",
      "[[7693  208]\n",
      " [1394  241]] 0.560537415037\n"
     ]
    }
   ],
   "source": [
    "from sklearn.neural_network import MLPClassifier\n",
    "yhat_list_sk = []\n",
    "y_test_list_sk = []\n",
    "\n",
    "\n",
    "skf = StratifiedKFold(n_splits=, shuffle=True)\n",
    "for iter_num, (train_indices, test_indices) in enumerate(skf.split(df_train.drop(['readmitted'], axis = 1), df_train['readmitted'])):\n",
    "    df_train_cv = df_train.iloc[train_indices]\n",
    "    df_test_cv = df_train.iloc[test_indices]\n",
    "    \n",
    "    df_dummies = pd.get_dummies(df_train_cv, columns=categorical_headers)\n",
    "\n",
    "    df_dummies_train, df_dummies_test = train_test_split(df_dummies, test_size=0.2, stratify=df_dummies['readmitted'])\n",
    "    y_train_sk = df_dummies_train['readmitted']\n",
    "    y_test_sk = df_dummies_test['readmitted']\n",
    "    df_dummies_train.drop(['readmitted'], axis=1, inplace=True)\n",
    "    df_dummies_test.drop(['readmitted'], axis=1, inplace=True)\n",
    "\n",
    "    clf = MLPClassifier()\n",
    "    clf.fit(X=df_dummies_train.values, y=np.asarray(y_train_sk.values, dtype=\"|S6\"))\n",
    "    yhat_sk = clf.predict(df_dummies_test.values)\n",
    "    yhat_list_sk.append(yhat_sk.astype(int))\n",
    "    y_test_list_sk.append(y_test_sk.values.astype(int))\n",
    "    print(mt.confusion_matrix(y_test_sk.values.astype(int),yhat_sk.astype(int)),mt.roc_auc_score(y_test_sk.values.astype(int),yhat_sk.astype(int)))"
   ]
  },
  {
   "cell_type": "markdown",
   "metadata": {},
   "source": [
    "With receiver operating characteristic and area under the curve scoring:"
   ]
  },
  {
   "cell_type": "code",
   "execution_count": 25,
   "metadata": {},
   "outputs": [
    {
     "name": "stdout",
     "output_type": "stream",
     "text": [
      "[[7765  136]\n",
      " [1476  159]] 0.540017347705\n",
      "[[7705  196]\n",
      " [1440  195]] 0.547229534294\n",
      "[[7609  292]\n",
      " [1385  250]] 0.557973925803\n",
      "[[7580  321]\n",
      " [1348  287]] 0.567453699779\n",
      "[[7721  180]\n",
      " [1429  206]] 0.551605978727\n",
      "[[7870   31]\n",
      " [1574   61]] 0.516692657261\n",
      "[[7802   99]\n",
      " [1502  133]] 0.534407753132\n",
      "[[7732  169]\n",
      " [1407  228]] 0.559029921889\n",
      "[[7493  408]\n",
      " [1311  324]] 0.57326305229\n",
      "[[7693  208]\n",
      " [1394  241]] 0.560537415037\n"
     ]
    },
    {
     "data": {
      "text/plain": [
       "<Container object of 10 artists>"
      ]
     },
     "execution_count": 25,
     "metadata": {},
     "output_type": "execute_result"
    },
    {
     "data": {
      "image/png": "[encoded data removed]",
      "text/plain": [
       "<matplotlib.figure.Figure at 0x254345e6d30>"
      ]
     },
     "metadata": {},
     "output_type": "display_data"
    }
   ],
   "source": [
    "scores_sk = []\n",
    "\n",
    "for i in range(0, len(yhat_list_sk)):\n",
    "    print(mt.confusion_matrix(y_test_list_sk[i],yhat_list_sk[i]), mt.roc_auc_score(y_test_list_sk[i],yhat_list_sk[i]))\n",
    "    scores_sk.append(mt.recall_score(y_test_list_sk[i],yhat_list_sk[i]))\n",
    "    \n",
    "import matplotlib.pyplot as plt\n",
    "%matplotlib inline\n",
    "\n",
    "i = list(range(1,11))\n",
    "plt.bar(i,scores_sk)"
   ]
  },
  {
   "cell_type": "markdown",
   "metadata": {},
   "source": [
    "With recall scoring:"
   ]
  },
  {
   "cell_type": "code",
   "execution_count": 26,
   "metadata": {},
   "outputs": [
    {
     "name": "stdout",
     "output_type": "stream",
     "text": [
      "[[7765  136]\n",
      " [1476  159]] 0.097247706422\n",
      "[[7705  196]\n",
      " [1440  195]] 0.119266055046\n",
      "[[7609  292]\n",
      " [1385  250]] 0.152905198777\n",
      "[[7580  321]\n",
      " [1348  287]] 0.175535168196\n",
      "[[7721  180]\n",
      " [1429  206]] 0.125993883792\n",
      "[[7870   31]\n",
      " [1574   61]] 0.0373088685015\n",
      "[[7802   99]\n",
      " [1502  133]] 0.0813455657492\n",
      "[[7732  169]\n",
      " [1407  228]] 0.139449541284\n",
      "[[7493  408]\n",
      " [1311  324]] 0.198165137615\n",
      "[[7693  208]\n",
      " [1394  241]] 0.147400611621\n"
     ]
    },
    {
     "data": {
      "text/plain": [
       "<Container object of 10 artists>"
      ]
     },
     "execution_count": 26,
     "metadata": {},
     "output_type": "execute_result"
    },
    {
     "data": {
      "image/png": "[encoded data removed]",
      "text/plain": [
       "<matplotlib.figure.Figure at 0x25434adf550>"
      ]
     },
     "metadata": {},
     "output_type": "display_data"
    }
   ],
   "source": [
    "scores_sk = []\n",
    "\n",
    "for i in range(0, len(yhat_list_sk)):\n",
    "    print(mt.confusion_matrix(y_test_list_sk[i],yhat_list_sk[i]), mt.recall_score(y_test_list_sk[i],yhat_list_sk[i]))\n",
    "    scores_sk.append(mt.recall_score(y_test_list_sk[i],yhat_list_sk[i]))\n",
    "    \n",
    "import matplotlib.pyplot as plt\n",
    "%matplotlib inline\n",
    "\n",
    "i = list(range(1,11))\n",
    "plt.bar(i,scores_sk)"
   ]
  },
  {
   "cell_type": "markdown",
   "metadata": {},
   "source": [
    "By looking at the performance of Scikit-Learn's MLP classifier, we can conclude that the Tensorflow implementation is superior in performance."
   ]
  },
  {
   "cell_type": "markdown",
   "metadata": {},
   "source": [
    "## Further Architecture Analysis"
   ]
  },
  {
   "cell_type": "markdown",
   "metadata": {},
   "source": [
    "We also wanted to experiment with the performance changes with adding deep layers at the final stage, rather than adding deep layers to the \"deep portion\" of the network like we did above. Due to time constraints, we were unable to train the model in time to conduct analysis. However, we did want to leave the implementation here in case.\n",
    "\n",
    "In our own personal testing, we found that adding more layers to the deeper portion to the network had higher performance than adding more layers to the final layer of the network."
   ]
  },
  {
   "cell_type": "code",
   "execution_count": null,
   "metadata": {},
   "outputs": [],
   "source": [
    "# we need to create separate sequential models for each embedding\n",
    "import tensorflow as tf\n",
    "with tf.device('/GPU:0'):\n",
    "    embed_branches = []\n",
    "    X_ints_train = []\n",
    "    X_ints_test = []\n",
    "    all_inputs = []\n",
    "    all_branch_outputs = []\n",
    "\n",
    "    for cols in cross_columns:\n",
    "        # encode crossed columns as ints for the embedding\n",
    "        enc = LabelEncoder()\n",
    "\n",
    "        # create crossed labels\n",
    "        # needs to be commented better, Eric!\n",
    "        X_crossed_train = df_train[cols].apply(lambda x: '_'.join(x), axis=1)\n",
    "        X_crossed_test = df_test[cols].apply(lambda x: '_'.join(x), axis=1)\n",
    "\n",
    "        enc.fit(np.hstack((X_crossed_train.values,  X_crossed_test.values)))\n",
    "        X_crossed_train = enc.transform(X_crossed_train)\n",
    "        X_crossed_test = enc.transform(X_crossed_test)\n",
    "        X_ints_train.append( X_crossed_train )\n",
    "        X_ints_test.append( X_crossed_test )\n",
    "\n",
    "        # get the number of categories\n",
    "        N = max(X_ints_train[-1]+1) # same as the max(df_train[col])\n",
    "\n",
    "        # create embedding branch from the number of categories\n",
    "        inputs = Input(shape=(1,),dtype='int32', name = '_'.join(cols))\n",
    "        all_inputs.append(inputs)\n",
    "        x = Embedding(input_dim=N, output_dim=int(np.sqrt(N)), input_length=1)(inputs)\n",
    "        x = Flatten()(x)\n",
    "        all_branch_outputs.append(x)\n",
    "\n",
    "    # merge the branches together\n",
    "    wide_branch = concatenate(all_branch_outputs)\n",
    "\n",
    "    # reset this input branch\n",
    "    all_branch_outputs = []\n",
    "    # add in the embeddings\n",
    "    for col in categorical_headers_ints:\n",
    "        # encode as ints for the embedding\n",
    "        X_ints_train.append( df_train[col].values )\n",
    "        X_ints_test.append( df_test[col].values )\n",
    "\n",
    "        # get the number of categories\n",
    "        N = max(X_ints_train[-1]+1) # same as the max(df_train[col])\n",
    "\n",
    "        # create embedding branch from the number of categories\n",
    "        inputs = Input(shape=(1,),dtype='int32', name=col)\n",
    "        all_inputs.append(inputs)\n",
    "        x = Embedding(input_dim=N, output_dim=int(np.sqrt(N)), input_length=1)(inputs)\n",
    "        x = Flatten()(x)\n",
    "        all_branch_outputs.append(x)\n",
    "\n",
    "    # also get a dense branch of the numeric features\n",
    "    all_inputs.append(Input(shape=(X_train_num.shape[1],),sparse=False,name='numeric_data'))\n",
    "    x = Dense(units=20, activation='relu')(all_inputs[-1])\n",
    "    all_branch_outputs.append( x )\n",
    "\n",
    "    # merge the branches together\n",
    "    deep_branch = concatenate(all_branch_outputs)\n",
    "    deep_branch = Dense(units=50,activation='relu')(deep_branch)\n",
    "    deep_branch = Dense(units=10,activation='relu')(deep_branch)\n",
    "\n",
    "    final_branch = concatenate([wide_branch, deep_branch])\n",
    "    final_branch = Dense(units=50,activation='sigmoid')(final_branch)\n",
    "    final_branch = Dense(units=1,activation='sigmoid')(final_branch)\n",
    "\n",
    "    model3 = Model(inputs=all_inputs, outputs=final_branch)\n",
    "\n",
    "    model3.compile(optimizer='Adam',\n",
    "                  loss='binary_crossentropy',\n",
    "                  metrics=['accuracy'])\n",
    "\n",
    "    model3.fit(X_ints_train+ [X_train_num],\n",
    "            y_train, epochs=10, batch_size=32, verbose=1)"
   ]
  }
 ],
 "metadata": {
  "kernelspec": {
   "display_name": "Python 3",
   "language": "python",
   "name": "python3"
  },
  "language_info": {
   "codemirror_mode": {
    "name": "ipython",
    "version": 3
   },
   "file_extension": ".py",
   "mimetype": "text/x-python",
   "name": "python",
   "nbconvert_exporter": "python",
   "pygments_lexer": "ipython3",
   "version": "3.6.3"
  }
 },
 "nbformat": 4,
 "nbformat_minor": 2
}
